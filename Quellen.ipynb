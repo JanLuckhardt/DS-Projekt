{
 "cells": [
  {
   "cell_type": "markdown",
   "id": "a497aa9f-f043-47cd-a0b9-a73729fdca27",
   "metadata": {},
   "source": [
    "# Quelle zu Daten:\n",
    "    * Data on the daily number of new reported COVID-19 cases and deaths by EU/EEA country:\n",
    "Quelle 1\n",
    "https://www.ecdc.europa.eu/en/publications-data/data-daily-new-cases-covid-19-eueea-country\n",
    "-----\n",
    "    * Data on COVID-19 vaccination in the EU/EEA\n",
    "Quelle 2\n",
    "https://www.ecdc.europa.eu/en/publications-data/data-covid-19-vaccination-eu-eea\n",
    "-----\n",
    "    * Data on SARS-CoV-2 variants in the EU/EEA\n",
    "Quelle 3\n",
    "https://www.ecdc.europa.eu/en/publications-data/data-virus-variants-covid-19-eueea\n",
    "-----\n",
    "    *Data for the maps in support of the Council Recommendation on a coordinated approach to the restriction of free movement in response to the COVID-19 pandemic in the EU/EEA\n",
    "Quelle 4\n",
    "https://www.ecdc.europa.eu/en/publications-data/indicators-maps-support-council-recommendation\n",
    "-----\n",
    "    *Data on hospital and ICU admission rates and current occupancy for COVID-19\n",
    "Quelle 5\n",
    "https://www.ecdc.europa.eu/en/publications-data/download-data-hospital-and-icu-admission-rates-and-current-occupancy-covid-19\n",
    "-----\n",
    "    *Data on country response measures to COVID-19\n",
    "Quelle 7\n",
    "https://www.ecdc.europa.eu/en/publications-data/download-data-response-measures-covid-19\n",
    "-----\n",
    "    *Zeitreihe der Impfstofflieferungen\n",
    "Quelle 8\n",
    "https://impfdashboard.de/daten\n",
    "-----\n",
    "    *Zeitreihe der bundesweiten Impfungen\n",
    "Quelle 9\n",
    "same\n",
    "------\n",
    "    *Impf-Fortschritt nach Bundesland\n",
    "Quelle 10\n",
    "same\n",
    "-----\n",
    "    *    Sozialindikatoren\n",
    "Quelle 11\n",
    "https://www.corona-daten-deutschland.de/dataset/sozialindikatoren\n",
    "----\n",
    "    *COVID-19 Data Explorer\n",
    "Q12\n",
    "https://ourworldindata.org/explorers/coronavirus-data-explorer?zoomToSelection=true&time=2020-03-01..latest&facet=none&pickerSort=asc&pickerMetric=location&Metric=Confirmed+cases&Interval=7-day+rolling+average&Relative+to+Population=true&Color+by+test+positivity=false&country=USA~GBR~CAN~DEU~ITA~IND"
   ]
  },
  {
   "cell_type": "markdown",
   "id": "11a723ae-452f-4f21-8ee0-21225d60368f",
   "metadata": {},
   "source": []
  }
 ],
 "metadata": {
  "kernelspec": {
   "display_name": "Python 3",
   "language": "python",
   "name": "python3"
  },
  "language_info": {
   "codemirror_mode": {
    "name": "ipython",
    "version": 3
   },
   "file_extension": ".py",
   "mimetype": "text/x-python",
   "name": "python",
   "nbconvert_exporter": "python",
   "pygments_lexer": "ipython3",
   "version": "3.8.8"
  }
 },
 "nbformat": 4,
 "nbformat_minor": 5
}
